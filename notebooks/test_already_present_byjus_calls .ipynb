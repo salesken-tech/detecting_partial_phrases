{
 "cells": [
  {
   "cell_type": "code",
   "execution_count": 1,
   "metadata": {},
   "outputs": [],
   "source": [
    "import pandas as pd\n",
    "import psycopg2"
   ]
  },
  {
   "cell_type": "code",
   "execution_count": 6,
   "metadata": {},
   "outputs": [],
   "source": [
    "conn = psycopg2.connect(host=\"35.200.234.61\",database=\"sales\", user=\"postgres\", password=\"cx6ac54nmgGtLD1y\")"
   ]
  },
  {
   "cell_type": "code",
   "execution_count": 7,
   "metadata": {},
   "outputs": [],
   "source": [
    "# This query gets the snippets and caught \n",
    "#signals along with the ids of signal and snippets for byju's\n",
    "sql=\"\"\"select\n",
    "\tsnippet.task_id,\n",
    "\tsignal_caught.snippet_id,\n",
    "\tsignal_caught.signal_generated_id,\n",
    "\tsnippet.text_ as snippet_text,\n",
    "\tsignal_generated.text_ as signal_text,\n",
    "\tproduct_signal.\"name\",\n",
    "\tsignal_caught.score,\n",
    "\tsignal_caught.match_method\n",
    "from\n",
    "\tsignal_caught\n",
    "left join signal_generated on\n",
    "\tsignal_generated.id = signal_caught.signal_generated_id\n",
    "left join product_signal on\n",
    "\tproduct_signal.id = signal_generated.signal_id\n",
    "left join snippet on\n",
    "\tsnippet.id = signal_caught.snippet_id\n",
    "where\n",
    "\tsignal_caught.snippet_id in (\n",
    "\tselect\n",
    "\t\tsnippet.id\n",
    "\tfrom\n",
    "\t\tsnippet\n",
    "\twhere\n",
    "\t\tsnippet.task_id in(select\n",
    "\t\ttask.id\n",
    "\tfrom\n",
    "\t\ttask\n",
    "\twhere\n",
    "\t\ttask.\"owner\" in (\n",
    "\t\tselect\n",
    "\t\t\torg_user.userid\n",
    "\t\tfrom\n",
    "\t\t\torg_user\n",
    "\t\twhere\n",
    "\t\t\torg_user.organizationid in (\n",
    "\t\t\tselect\n",
    "\t\t\t\torganization.id\n",
    "\t\t\tfrom\n",
    "\t\t\t\torganization\n",
    "\t\t\twhere\n",
    "\t\t\t\torganization.\"name\" like '%Byju%'))))\n",
    "and signal_caught.match_method = 'USE'\n",
    "order by snippet.id asc\"\"\""
   ]
  },
  {
   "cell_type": "code",
   "execution_count": 8,
   "metadata": {},
   "outputs": [],
   "source": [
    "df_caught_signals=pd.read_sql_query(sql,conn)"
   ]
  },
  {
   "cell_type": "code",
   "execution_count": 9,
   "metadata": {},
   "outputs": [
    {
     "data": {
      "text/plain": [
       "0"
      ]
     },
     "execution_count": 9,
     "metadata": {},
     "output_type": "execute_result"
    }
   ],
   "source": [
    "len(df_caught_signals)"
   ]
  },
  {
   "cell_type": "code",
   "execution_count": 8,
   "metadata": {},
   "outputs": [
    {
     "name": "stdout",
     "output_type": "stream",
     "text": [
      "task_id-->124\n",
      "snippet_id-->276\n",
      "signal_generated_id-->64\n",
      "snippet_text-->82\n",
      "signal_text-->27\n",
      "name-->10\n",
      "['Value Proposition' 'Lead Qualification' 'Introduction'\n",
      " 'Feature Explanation' 'Objection Handling' 'Deal Finalization'\n",
      " 'Next Steps' 'Feature Need Mapping' 'Competitor Mapping'\n",
      " 'Value Prop Signal']\n",
      "score-->98\n",
      "match_method-->1\n"
     ]
    }
   ],
   "source": [
    "\"\"\"displaying the countof unique values for aal the columns \n",
    "and the name of unique columns for signal names\"\"\"\n",
    "\n",
    "for row in df_caught_signals.columns.to_list():\n",
    "    print(str(row)+\"-->\"+str(len(df_caught_signals[row].unique())))\n",
    "    if row in 'name':\n",
    "        print(df_caught_signals[row].unique())"
   ]
  },
  {
   "cell_type": "code",
   "execution_count": 3,
   "metadata": {},
   "outputs": [],
   "source": [
    "# Here i am getting all the snippets for byju's\n",
    "sql_snippets=\"\"\"select\n",
    "    snippet.id as id,\n",
    "\tsnippet.speaker,\n",
    "\tsnippet.text_,\n",
    "    snippet.task_id,\n",
    "    snippet.from_time,\n",
    "    snippet.to_time\n",
    "from\n",
    "\tsnippet\n",
    "where\n",
    "\tsnippet.task_id in (\n",
    "\tselect\n",
    "\t\ttask.id\n",
    "\tfrom\n",
    "\t\ttask\n",
    "\twhere\n",
    "\t\ttask.\"owner\" in (\n",
    "\t\tselect\n",
    "\t\t\torg_user.userid\n",
    "\t\tfrom\n",
    "\t\t\torg_user\n",
    "\t\twhere\n",
    "\t\t\torg_user.organizationid in (\n",
    "\t\t\tselect\n",
    "\t\t\t\torganization.id\n",
    "\t\t\tfrom\n",
    "\t\t\t\torganization\n",
    "\t\t\twhere\n",
    "\t\t\t\torganization.\"name\" like '%Byju%')))\n",
    "order by snippet.id asc\"\"\""
   ]
  },
  {
   "cell_type": "code",
   "execution_count": 4,
   "metadata": {},
   "outputs": [],
   "source": [
    "df_snippets=pd.read_sql_query(sql_snippets,conn)"
   ]
  },
  {
   "cell_type": "code",
   "execution_count": 5,
   "metadata": {},
   "outputs": [],
   "source": [
    "df_snippets.rename(columns={\"text_\":\"text\"},inplace=True)"
   ]
  },
  {
   "cell_type": "code",
   "execution_count": 6,
   "metadata": {},
   "outputs": [],
   "source": [
    "# making data for new application\n",
    "df_snippets.to_excel(\"/home/andy/Desktop/byjoose_snippets.xlsx\",index=None)"
   ]
  },
  {
   "cell_type": "markdown",
   "metadata": {},
   "source": [
    "# making data for the old system"
   ]
  },
  {
   "cell_type": "code",
   "execution_count": 21,
   "metadata": {},
   "outputs": [],
   "source": [
    "df_caught_signals_new = df_caught_signals[[\"snippet_id\",\"signal_generated_id\",\"name\",\"score\",\"match_method\",\"signal_text\"]]"
   ]
  },
  {
   "cell_type": "code",
   "execution_count": 22,
   "metadata": {},
   "outputs": [
    {
     "data": {
      "text/plain": [
       "Index(['snippet_id', 'signal_generated_id', 'name', 'score', 'match_method',\n",
       "       'signal_text'],\n",
       "      dtype='object')"
      ]
     },
     "execution_count": 22,
     "metadata": {},
     "output_type": "execute_result"
    }
   ],
   "source": [
    "df_caught_signals_new.columns"
   ]
  },
  {
   "cell_type": "code",
   "execution_count": 23,
   "metadata": {},
   "outputs": [],
   "source": [
    "out=df_snippets.merge(df_caught_signals_new,on=\"snippet_id\",how=\"left\")"
   ]
  },
  {
   "cell_type": "code",
   "execution_count": 24,
   "metadata": {},
   "outputs": [],
   "source": [
    "out.to_excel(\"/home/andy/Desktop/xyz.xlsx\")"
   ]
  },
  {
   "cell_type": "code",
   "execution_count": null,
   "metadata": {},
   "outputs": [],
   "source": []
  }
 ],
 "metadata": {
  "kernelspec": {
   "display_name": "Python3",
   "language": "python",
   "name": "python3"
  },
  "language_info": {
   "codemirror_mode": {
    "name": "ipython",
    "version": 3
   },
   "file_extension": ".py",
   "mimetype": "text/x-python",
   "name": "python",
   "nbconvert_exporter": "python",
   "pygments_lexer": "ipython3",
   "version": "3.6.8"
  }
 },
 "nbformat": 4,
 "nbformat_minor": 2
}
