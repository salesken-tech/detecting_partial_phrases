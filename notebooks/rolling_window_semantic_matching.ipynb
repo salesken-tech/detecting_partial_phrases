{
 "cells": [
  {
   "cell_type": "code",
   "execution_count": 1,
   "metadata": {},
   "outputs": [],
   "source": [
    "from laserembeddings import Laser\n",
    "import pandas as pd\n",
    "import textacy\n",
    "import time"
   ]
  },
  {
   "cell_type": "code",
   "execution_count": 4,
   "metadata": {},
   "outputs": [],
   "source": [
    "signal=\"I am looking for a three bedroom apartment\"\n",
    "snippet1=\"I am looking for an  apartment\"\n",
    "snippet2=\"bedroom apartment\"\n",
    "snippet3=\"looking for an aprtment\"\n",
    "snippet4=\"looking for bedroom\"\n",
    "snippets=[snippet1,snippet2,snippet3,snippet4]"
   ]
  },
  {
   "cell_type": "code",
   "execution_count": 5,
   "metadata": {},
   "outputs": [
    {
     "name": "stdout",
     "output_type": "stream",
     "text": [
      "[I, am, looking, for, a, three, bedroom, apartment]\n",
      "!!!!!!!!!!!!!!!!!!!!!!\n",
      "[I am, am looking, looking for, for a, a three, three bedroom, bedroom apartment]\n",
      "!!!!!!!!!!!!!!!!!!!!!!\n",
      "[I am looking, am looking for, looking for a, for a three, a three bedroom, three bedroom apartment]\n",
      "!!!!!!!!!!!!!!!!!!!!!!\n",
      "[I am looking for, am looking for a, looking for a three, for a three bedroom, a three bedroom apartment]\n",
      "!!!!!!!!!!!!!!!!!!!!!!\n",
      "[I am looking for a, am looking for a three, looking for a three bedroom, for a three bedroom apartment]\n",
      "!!!!!!!!!!!!!!!!!!!!!!\n",
      "[I am looking for a three, am looking for a three bedroom, looking for a three bedroom apartment]\n",
      "!!!!!!!!!!!!!!!!!!!!!!\n",
      "[I am looking for a three bedroom, am looking for a three bedroom apartment]\n",
      "!!!!!!!!!!!!!!!!!!!!!!\n",
      "[I am looking for a three bedroom apartment]\n",
      "!!!!!!!!!!!!!!!!!!!!!!\n",
      "TIme=0.0005917549133300781\n"
     ]
    }
   ],
   "source": [
    "doc=textacy.make_spacy_doc(signal,lang='en_core_web_sm')\n",
    "s=time.time()\n",
    "for i in range(len(signal.split())):\n",
    "    n_gram = textacy.extract.ngrams(doc,n=i+1, filter_stops=False)\n",
    "    print([item for item in n_gram])\n",
    "    \n",
    "    print(\"!!!!!!!!!!!!!!!!!!!!!!\")\n",
    "print(\"TIme={}\".format(time.time()-s))"
   ]
  },
  {
   "cell_type": "code",
   "execution_count": 7,
   "metadata": {},
   "outputs": [
    {
     "name": "stdout",
     "output_type": "stream",
     "text": [
      "[I, am, looking, for, an, apartment]\n",
      "[I am, am looking, looking for, for an]\n",
      "[I am looking, am looking for, looking for an]\n",
      "[I am looking for, am looking for an]\n",
      "[I am looking for an]\n",
      "[]\n",
      "!!!!!!!!!!!!!!!!!!!!!!!!!\n",
      "[bedroom, apartment]\n",
      "[bedroom apartment]\n",
      "!!!!!!!!!!!!!!!!!!!!!!!!!\n",
      "[looking, for, an, aprtment]\n",
      "[looking for, for an, an aprtment]\n",
      "[looking for an, for an aprtment]\n",
      "[looking for an aprtment]\n",
      "!!!!!!!!!!!!!!!!!!!!!!!!!\n",
      "[looking, for, bedroom]\n",
      "[looking for, for bedroom]\n",
      "[looking for bedroom]\n",
      "!!!!!!!!!!!!!!!!!!!!!!!!!\n"
     ]
    }
   ],
   "source": [
    "for snippet in snippets:\n",
    "    doc=textacy.make_spacy_doc(snippet,lang='en_core_web_sm')\n",
    "    for i in range(len(snippet.split())):\n",
    "        n_gram = textacy.extract.ngrams(doc,n=i+1, filter_stops=False)\n",
    "        print([item for item in n_gram])\n",
    "    print(\"!!!!!!!!!!!!!!!!!!!!!!!!!\")"
   ]
  },
  {
   "cell_type": "code",
   "execution_count": null,
   "metadata": {},
   "outputs": [],
   "source": []
  }
 ],
 "metadata": {
  "kernelspec": {
   "display_name": "Python3",
   "language": "python",
   "name": "python3"
  },
  "language_info": {
   "codemirror_mode": {
    "name": "ipython",
    "version": 3
   },
   "file_extension": ".py",
   "mimetype": "text/x-python",
   "name": "python",
   "nbconvert_exporter": "python",
   "pygments_lexer": "ipython3",
   "version": "3.6.8"
  }
 },
 "nbformat": 4,
 "nbformat_minor": 2
}
